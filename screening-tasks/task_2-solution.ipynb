{
 "cells": [
  {
   "cell_type": "markdown",
   "id": "be3266f2-e456-4b72-ad21-10884261ac14",
   "metadata": {
    "tags": []
   },
   "source": [
    "<h1 align=\"center\">QOSF mentorship 2023 &#x1F52E</h1>\n",
    " \n",
    "More information about the mentorship can be found here > **[Quantum Computing Mentorship Program](https://qosf.org/qc_mentorship)**\n",
    "\n",
    "<div class=\"alert alert-block alert-warning\">\n",
    "    \n",
    "<b>Task 2 Is Rectangle?</b>\n",
    "    \n",
    "Given four positive integers `A`, `B`, `C`, `D`, determine if there’s a `rectangle` such that the lengths of its sides are A, B, C and D (in any order).\n",
    "\n",
    "If any such rectangle exist return 1 else return 0.\n",
    "    \n",
    "</div> "
   ]
  },
  {
   "cell_type": "markdown",
   "id": "f6bc34ba-cd07-438f-9166-68999f21e6e6",
   "metadata": {},
   "source": [
    "## A few questions at the beginning"
   ]
  },
  {
   "cell_type": "markdown",
   "id": "0947c9bd-3996-4e18-8f42-ee7c73611a82",
   "metadata": {},
   "source": [
    "**Q:** How do we define a rectangle?   \n",
    "**A:** Rectangle is a quadrilateral that has its parallel sides equal to each other and all the four vertices are equal to 90 degrees.<sup>[\\[1\\]](https://www.cuemath.com/geometry/rectangle)</sup>\n",
    "\n",
    "**Q:** Is a square a rectangle?  \n",
    "**A:** Square can be defined as a rectangle with two equal-length adjacent sides. So YES!<sup>[\\[2\\]](https://en.wikipedia.org/wiki/Square)</sup>\n",
    "\n",
    "**Q:** Do we have to consider invalid inputs, such as negative legths? Do we have to consider float numbers?   \n",
    "**A:** No. No."
   ]
  },
  {
   "cell_type": "markdown",
   "id": "0f99a50a-93c7-453c-92d8-67b5df6e5f43",
   "metadata": {
    "tags": []
   },
   "source": [
    "## Imports"
   ]
  },
  {
   "cell_type": "code",
   "execution_count": 77,
   "id": "72434f6d-7450-4e2e-9826-a80caddbfa7c",
   "metadata": {},
   "outputs": [
    {
     "name": "stderr",
     "output_type": "stream",
     "text": [
      "ibmqfactory.load_account:WARNING:2023-03-06 00:39:20,339: Credentials are already in use. The existing account in the session will be replaced.\n"
     ]
    }
   ],
   "source": [
    "# Importing standard Qiskit libraries\n",
    "from qiskit import QuantumCircuit, QuantumRegister, ClassicalRegister\n",
    "from qiskit import transpile, Aer, execute, IBMQ\n",
    "from qiskit.tools.monitor import job_monitor\n",
    "from qiskit.tools.jupyter import *\n",
    "from qiskit.visualization import *\n",
    "from ibm_quantum_widgets import *\n",
    "from qiskit.providers.aer import QasmSimulator\n",
    "\n",
    "# Loading your IBM Quantum account(s)\n",
    "provider = IBMQ.load_account()"
   ]
  },
  {
   "cell_type": "markdown",
   "id": "d584b4bb-6c7c-4edb-9b94-413be7c2f9f6",
   "metadata": {
    "tags": []
   },
   "source": [
    "## Functions ~ solution"
   ]
  },
  {
   "cell_type": "markdown",
   "id": "6ca408d6-35f2-418f-a11a-6940813ff9b5",
   "metadata": {},
   "source": [
    "<div class=\"alert alert-block alert-info\">\n",
    "    \n",
    "<b>1. How to find a rectangle?</b>\n",
    "    \n",
    "To determine whether a given shape is a rectangle, we need to check if it satisfies the definition of having `two pairs of equal lengths`. We can do this through a simple yet effective algorithm that checks the equality of the shape's four sides.  \n",
    "    \n",
    "We have to examine all the posibilities, so we have to check:\n",
    "* the equality of sides A and B, and the equality of sides C and D\n",
    "* the equality of sides A and C, and the equality of sides B and D\n",
    "* the equality of sides A and D, and the equality of sides B and C\n",
    " \n",
    "If at least one of these options returns true, then the shape is a rectangle with the corresponding side lengths.  \n",
    "    \n",
    "</div> "
   ]
  },
  {
   "cell_type": "code",
   "execution_count": 78,
   "id": "a627269b-c664-46c0-82a8-528c8a03e461",
   "metadata": {},
   "outputs": [],
   "source": [
    "def is_rectangle(A:int, B:int, C:int, D:int) -> bool:\n",
    "    \"\"\"Determines whether it is possible to form a rectangle using the given side lengths A, B, C, and D.\n",
    "    Returns a boolean value, which is 1 (True) if a rectangle can be formed and 0 (False) if it cannot.\n",
    "\n",
    "    Parameters\n",
    "    ----------\n",
    "    A, B, C, D : int\n",
    "        integer values that are sides of the rectangle\n",
    "\n",
    "    Returns\n",
    "    -------\n",
    "    bool\n",
    "        boolean value indicating whether there exists a rectangle with sides A, B, C, and D\n",
    "    \"\"\"\n",
    "    \n",
    "    # check the equality of sides A and B, and the equality of sides C and D\n",
    "    if(equal(A, B) and equal(C, D)):\n",
    "        return 1\n",
    "    \n",
    "    # the equality of sides A and C, and the equality of sides B and D\n",
    "    if(equal(A, C) and equal(B, D)):\n",
    "        return 1\n",
    "    \n",
    "    # the equality of sides A and D, and the equality of sides B and C\n",
    "    if(equal(A, D) and equal(B, C)):\n",
    "        return 1\n",
    "    \n",
    "    # we must not forget to write return statement for the case when we cannot create a rectangle\n",
    "    return 0\n",
    "\n",
    "# help(is_rectangle)"
   ]
  },
  {
   "cell_type": "markdown",
   "id": "cf9477e8-565b-4a7f-8fd2-9accd0d39c00",
   "metadata": {},
   "source": [
    "<div class=\"alert alert-block alert-info\">\n",
    "    \n",
    "<b>2. Are the two numbers equal?</b>\n",
    "    \n",
    "In our approach to determining whether two numbers are equal, we will use `encoding decimals into binary` and create a quantum circuit based on the resulting binary values. Specifically, for each `1` in the binary string, we `apply an X-Gate` to the related qubit. So if the corresponding bits of the two binary numbers are the same, we apply either two X-Gates (both bits are 1) or no X-Gate (both bits are 0), resulting in the quantum state remaining |0>. However, if the corresponding bits differ, we apply only one X-Gate, resulting in the quantum state being |1>.\n",
    "\n",
    "Once we have created the circuit, we measure all the qubits. \n",
    "* If there is a `1` in the resulting bit string, we know that the two given numbers `were not equal`. \n",
    "* If the resulting bit string consists of `0s only`, we know that all the bits were matching and `numbers are equal`.\n",
    "    \n",
    "</div> "
   ]
  },
  {
   "cell_type": "code",
   "execution_count": 79,
   "id": "3a6c5cf6-f905-40a4-83df-859ad1ac218d",
   "metadata": {},
   "outputs": [],
   "source": [
    "def equal(num1:int, num2:int) -> bool:\n",
    "    \"\"\"Determines whether the given side lengths are equal or not.\n",
    "    Returns a boolean value, which is 1 (True) if they are equal and 0 (False) if they are not.\n",
    "\n",
    "    Parameters\n",
    "    ----------\n",
    "    num1, num2 : int\n",
    "        integer values that are sides of the rectangle to be compared\n",
    "\n",
    "    Returns\n",
    "    -------\n",
    "    bool\n",
    "        boolean value indicating whether given sides are of the equal length or not\n",
    "    \"\"\"\n",
    "    \n",
    "    # convert numbers into binaries\n",
    "    bin1 = bin(num1)[2:]\n",
    "    bin2 = bin(num2)[2:]\n",
    "    \n",
    "    # decide on the number of qubits and create a circuit\n",
    "    qubits = max(len(bin1), len(bin2))\n",
    "    qc = QuantumCircuit(qubits)\n",
    "\n",
    "    # add X-Gates to the circuit\n",
    "    for i in range(len(bin1)):\n",
    "        if(bin1[i] == \"1\"):\n",
    "            qc.x(i)\n",
    "    for i in range(len(bin2)):     \n",
    "        if(bin2[i] == \"1\"):\n",
    "            qc.x(i)\n",
    "\n",
    "    qc.measure_all()\n",
    "    \n",
    "    # draw the quantum circuit\n",
    "    # display(qc.draw())\n",
    "\n",
    "    # run a job on a quantum simulator\n",
    "    simulator = Aer.get_backend('qasm_simulator')\n",
    "    result = execute(qc, simulator, shots=1).result()\n",
    "    counts = result.get_counts()\n",
    "\n",
    "    res = [key for key in counts.keys()][0]\n",
    "\n",
    "    # search for one in a bit string, which means that the original bits we not matching\n",
    "    if \"1\" in res:\n",
    "        return 0\n",
    "    else:\n",
    "        return 1\n",
    "    \n",
    "# help(equal)"
   ]
  },
  {
   "cell_type": "markdown",
   "id": "ad1a9fa6-f176-4450-a167-94554f4ffe43",
   "metadata": {
    "tags": []
   },
   "source": [
    "### A few test cases"
   ]
  },
  {
   "cell_type": "code",
   "execution_count": 80,
   "id": "b03eb659-546b-4aac-97dd-e9e597905a9b",
   "metadata": {},
   "outputs": [
    {
     "name": "stdout",
     "output_type": "stream",
     "text": [
      "x: 1 , y: 0 , z: 1\n"
     ]
    }
   ],
   "source": [
    "x = is_rectangle(7,15,15,7)\n",
    "y = is_rectangle(7,1,15,7)\n",
    "z = is_rectangle(7,7,7,7)\n",
    "print(\"x:\", x, \", y:\", y, \", z:\", z)"
   ]
  },
  {
   "cell_type": "code",
   "execution_count": 81,
   "id": "0bdf09d0-7366-4062-aee7-c1c9b3ee736d",
   "metadata": {},
   "outputs": [
    {
     "data": {
      "text/plain": [
       "1"
      ]
     },
     "execution_count": 81,
     "metadata": {},
     "output_type": "execute_result"
    }
   ],
   "source": [
    "is_rectangle(2**1500,2**10000,2**10000,2**1500)"
   ]
  },
  {
   "cell_type": "code",
   "execution_count": 82,
   "id": "f2856f6f-da31-49f3-89a3-d9ea46548ca9",
   "metadata": {},
   "outputs": [
    {
     "data": {
      "text/plain": [
       "1"
      ]
     },
     "execution_count": 82,
     "metadata": {},
     "output_type": "execute_result"
    }
   ],
   "source": [
    "is_rectangle(15**150,10**1500,10**1500,15**150)"
   ]
  },
  {
   "cell_type": "markdown",
   "id": "37a18597-7eea-4385-9d6a-b19669ad6f82",
   "metadata": {},
   "source": [
    "## Another solutions"
   ]
  },
  {
   "cell_type": "markdown",
   "id": "8ee904ce-7346-4487-a502-e236ef7b285b",
   "metadata": {},
   "source": [
    "<div class=\"alert alert-block alert-info\">\n",
    "    \n",
    "<b>3. How can we make it better?</b>\n",
    "    \n",
    "Well, we might avoid running some unnecessary circuits with additional qubits by making a check, whether the two `binaries` are `of the same length` or not. If they are not, the numbers cannot be equal.\n",
    "    \n",
    "</div> "
   ]
  },
  {
   "cell_type": "code",
   "execution_count": 83,
   "id": "f1bd9545-b3ff-48ad-9bdd-b8e156b69723",
   "metadata": {},
   "outputs": [],
   "source": [
    "def equal(num1:int, num2:int) -> bool:\n",
    "    \"\"\"Determines whether the given side lengths are equal or not.\n",
    "    Returns a boolean value, which is 1 (True) if they are equal and 0 (False) if they are not.\n",
    "\n",
    "    Parameters\n",
    "    ----------\n",
    "    num1, num2 : int\n",
    "        integer values that are sides of the rectangle to be compared\n",
    "\n",
    "    Returns\n",
    "    -------\n",
    "    bool\n",
    "        boolean value indicating whether given sides are of the equal length or not\n",
    "    \"\"\"\n",
    "    \n",
    "    # convert numbers into binaries\n",
    "    bin1 = bin(num1)[2:]\n",
    "    bin2 = bin(num2)[2:]\n",
    "    \n",
    "    # we first compare the lengths\n",
    "    if len(bin1) == len(bin2):\n",
    "        \n",
    "        # decide the number of qubits and create a circuit\n",
    "        qc = QuantumCircuit(len(bin1))\n",
    "\n",
    "        # add X-Gates to the circuit\n",
    "        for i in range(len(bin1)):\n",
    "            if(bin1[i] == \"1\"):\n",
    "                qc.x(i)\n",
    "            if(bin2[i] == \"1\"):\n",
    "                qc.x(i)\n",
    "\n",
    "        qc.measure_all()\n",
    "\n",
    "        # draw the quantum circuit\n",
    "        # display(qc.draw())\n",
    "\n",
    "        # run a job on a quantum simulator\n",
    "        simulator = Aer.get_backend('qasm_simulator')\n",
    "        result = execute(qc, simulator, shots=1).result()\n",
    "        counts = result.get_counts()\n",
    "\n",
    "        res = [key for key in counts.keys()][0]\n",
    "\n",
    "        # search for \"1\" in a resulting bit string, which means that the original bits we not matching\n",
    "        if \"1\" in res:\n",
    "            return 0\n",
    "        else:\n",
    "            return 1\n",
    "        \n",
    "    # we must not forget to write return statement for the case when the binaries are not of the same length\n",
    "    return 0\n",
    "\n",
    "# help(equal)"
   ]
  },
  {
   "cell_type": "code",
   "execution_count": 84,
   "id": "65e02305-028f-4c7f-9d4c-beee77c5d48a",
   "metadata": {},
   "outputs": [
    {
     "name": "stdout",
     "output_type": "stream",
     "text": [
      "x: 1 , y: 0 , z: 1\n"
     ]
    }
   ],
   "source": [
    "x = is_rectangle(7,15,15,7)\n",
    "y = is_rectangle(7,1,15,7)\n",
    "z = is_rectangle(7,7,7,7)\n",
    "print(\"x:\", x, \", y:\", y, \", z:\", z)"
   ]
  },
  {
   "cell_type": "markdown",
   "id": "a407dd9f-92b2-4e22-9215-a7c981cae8f5",
   "metadata": {},
   "source": [
    "<div class=\"alert alert-block alert-info\">\n",
    "    \n",
    "<b>4. Can we still cut down the number of circuits?</b>\n",
    "\n",
    "Well, yes. We can make some additional classical computation. And what will be that? We can `sort the numbers` that we get. When sorted, we can be sure that `first two` should be equal and `last two` should also be equal therefore we have to examine just this one case.     \n",
    "    \n",
    "</div> "
   ]
  },
  {
   "cell_type": "code",
   "execution_count": 85,
   "id": "6191283c-4bb6-4dea-9e2b-1593fe49060d",
   "metadata": {},
   "outputs": [],
   "source": [
    "def is_rectangle(A:int, B:int, C:int, D:int) -> bool:\n",
    "    \"\"\"Determines whether it is possible to form a rectangle using the given side lengths A, B, C, and D.\n",
    "    Returns a boolean value, which is 1 (True) if a rectangle can be formed and 0 (False) if it cannot.\n",
    "\n",
    "    Parameters\n",
    "    ----------\n",
    "    A, B, C, D : int\n",
    "        integer values that are sides of the rectangle\n",
    "\n",
    "    Returns\n",
    "    -------\n",
    "    bool\n",
    "        boolean value indicating whether there exists a rectangle with sides A, B, C, and D\n",
    "    \"\"\"\n",
    "    \n",
    "    # sort the sides according to their lengths\n",
    "    sides = [A, B, C, D]\n",
    "    sides.sort()\n",
    "    \n",
    "    # check the equality of sides A and B, and the equality of sides C and D\n",
    "    if(equal(sides[0], sides[1]) and equal(sides[2], sides[3])):\n",
    "        return 1\n",
    "    else:\n",
    "        # we must not forget to write return statement for the case when we cannot create a rectangle\n",
    "        return 0\n",
    "\n",
    "# help(is_rectangle)"
   ]
  },
  {
   "cell_type": "code",
   "execution_count": 86,
   "id": "e6c23e4f-593e-4c1a-9c9a-6ddf0fe29c80",
   "metadata": {},
   "outputs": [],
   "source": [
    "def equal(num1:int, num2:int) -> bool:\n",
    "    \"\"\"Determines whether the given side lengths are equal or not.\n",
    "    Returns a boolean value, which is 1 (True) if they are equal and 0 (False) if they are not.\n",
    "\n",
    "    Parameters\n",
    "    ----------\n",
    "    num1, num2 : int\n",
    "        integer values that are sides of the rectangle to be compared\n",
    "\n",
    "    Returns\n",
    "    -------\n",
    "    bool\n",
    "        boolean value indicating whether given sides are of the equal length or not\n",
    "    \"\"\"\n",
    "    \n",
    "    # convert numbers into binaries\n",
    "    bin1 = bin(num1)[2:]\n",
    "    bin2 = bin(num2)[2:]\n",
    "    \n",
    "    # decide the number of qubits and create a circuit\n",
    "    qubits = max(len(bin1), len(bin2))\n",
    "    qc = QuantumCircuit(qubits)\n",
    "\n",
    "    # add X-Gates to the circuit\n",
    "    for i in range(len(bin1)):\n",
    "        if(bin1[i] == \"1\"):\n",
    "            qc.x(i)\n",
    "    for i in range(len(bin2)):     \n",
    "        if(bin2[i] == \"1\"):\n",
    "            qc.x(i)\n",
    "\n",
    "    qc.measure_all()\n",
    "    \n",
    "    # draw the quantum circuit\n",
    "    # display(qc.draw())\n",
    "\n",
    "    # run a job on a quantum simulator\n",
    "    simulator = Aer.get_backend('qasm_simulator')\n",
    "    result = execute(qc, simulator, shots=1).result()\n",
    "    counts = result.get_counts()\n",
    "\n",
    "    res = [key for key in counts.keys()][0]\n",
    "\n",
    "    # search for one in a bit string, which means that the original bits we not matching\n",
    "    if \"1\" in res:\n",
    "        return 0\n",
    "    else:\n",
    "        return 1\n",
    "\n",
    "# help(equal)"
   ]
  },
  {
   "cell_type": "code",
   "execution_count": 87,
   "id": "c2251d58-49cf-4d4f-9c36-09a974d4af31",
   "metadata": {},
   "outputs": [
    {
     "name": "stdout",
     "output_type": "stream",
     "text": [
      "x: 1 , y: 0 , z: 1\n"
     ]
    }
   ],
   "source": [
    "x = is_rectangle(7,15,15,7)\n",
    "y = is_rectangle(7,1,15,7)\n",
    "z = is_rectangle(7,7,7,7)\n",
    "print(\"x:\", x, \", y:\", y, \", z:\", z)"
   ]
  },
  {
   "cell_type": "markdown",
   "id": "4314c353-19ef-49fa-a5af-9185d1308c89",
   "metadata": {},
   "source": [
    "<div class=\"alert alert-block alert-success\">\n",
    "    \n",
    "<b>Conclusion</b>\n",
    "    \n",
    "Given four positive integers `A`, `B`, `C`, `D`, we have successfully determined whether they can create a `rectangle` using a couple of slightly different approaches. Depending on our resources, we can decide for one of them. E.g. if we are able to sort the numbers beforehead, we can take an advantage of that and run only up to two circuits on a quantum computer.\n",
    "    \n",
    "Another thing is that we already have quantum computers with 64+ qubits (as 64 bits is the largest possible value for long on a classical computer), therefore we can perform such calculations without additional modification unlike on classical computers.\n",
    "    \n",
    "</div> "
   ]
  },
  {
   "cell_type": "markdown",
   "id": "6a021122-3162-465e-8a43-9431b549b73a",
   "metadata": {},
   "source": [
    "---"
   ]
  },
  {
   "cell_type": "markdown",
   "id": "670360ef-ab1a-4d50-a9b2-439241086985",
   "metadata": {},
   "source": [
    "*<div align=\"right\">by @denvitko, 2023</div>*"
   ]
  }
 ],
 "metadata": {
  "kernelspec": {
   "display_name": "Python 3 (ipykernel)",
   "language": "python",
   "name": "python3"
  },
  "language_info": {
   "codemirror_mode": {
    "name": "ipython",
    "version": 3
   },
   "file_extension": ".py",
   "mimetype": "text/x-python",
   "name": "python",
   "nbconvert_exporter": "python",
   "pygments_lexer": "ipython3",
   "version": "3.8.15"
  },
  "widgets": {
   "application/vnd.jupyter.widget-state+json": {
    "state": {
     "0508e362070c4079a6787b037927a8e6": {
      "model_module": "@jupyter-widgets/controls",
      "model_module_version": "1.5.0",
      "model_name": "HTMLModel",
      "state": {
       "layout": "IPY_MODEL_1d97ec7c1b3c4056bd365b6874772bde",
       "style": "IPY_MODEL_4192eae0b7aa48828754b3d4ff264b2f",
       "value": "<p style='font-family: IBM Plex Sans, Arial, Helvetica, sans-serif; font-size: 20px; font-weight: medium;'>Circuit Properties</p>"
      }
     },
     "0734688039ff4325972180402d76aa88": {
      "model_module": "@jupyter-widgets/controls",
      "model_module_version": "1.5.0",
      "model_name": "HTMLModel",
      "state": {
       "layout": "IPY_MODEL_def1c2b372804159a363e44da8135051",
       "style": "IPY_MODEL_45502bbf8a3e4ccb956f4cfcc20af7e0",
       "value": "<h5>Backend</h5>"
      }
     },
     "10f49ddb3b6d47529c2502c2f72d434a": {
      "model_module": "@jupyter-widgets/base",
      "model_module_version": "1.2.0",
      "model_name": "LayoutModel",
      "state": {
       "width": "70px"
      }
     },
     "143273588d61452aab6c0952b64cd94f": {
      "model_module": "@jupyter-widgets/controls",
      "model_module_version": "1.5.0",
      "model_name": "DescriptionStyleModel",
      "state": {
       "description_width": ""
      }
     },
     "1b712588c9cd4d41aae8c18474930ffa": {
      "model_module": "@jupyter-widgets/controls",
      "model_module_version": "1.5.0",
      "model_name": "DescriptionStyleModel",
      "state": {
       "description_width": ""
      }
     },
     "1d8c8adeddff4f7bb633c827c0c246f5": {
      "model_module": "@jupyter-widgets/controls",
      "model_module_version": "1.5.0",
      "model_name": "HTMLModel",
      "state": {
       "layout": "IPY_MODEL_2c135df9e5814ef6bd35a8bee29da00e",
       "style": "IPY_MODEL_1b712588c9cd4d41aae8c18474930ffa",
       "value": "<h5>Message</h5>"
      }
     },
     "1d97ec7c1b3c4056bd365b6874772bde": {
      "model_module": "@jupyter-widgets/base",
      "model_module_version": "1.2.0",
      "model_name": "LayoutModel",
      "state": {
       "margin": "0px 0px 10px 0px"
      }
     },
     "2875b83758ae4c299983edab12fcc5fd": {
      "model_module": "@jupyter-widgets/controls",
      "model_module_version": "1.5.0",
      "model_name": "HTMLModel",
      "state": {
       "layout": "IPY_MODEL_5b927dcab0b643fcaa2d29bbb6562238",
       "style": "IPY_MODEL_71ebcde96e4948068b179095591f9389",
       "value": "<p style='font-family: IBM Plex Sans, Arial, Helvetica, sans-serif; font-size: 20px; font-weight: medium;'>Circuit Properties</p>"
      }
     },
     "2c135df9e5814ef6bd35a8bee29da00e": {
      "model_module": "@jupyter-widgets/base",
      "model_module_version": "1.2.0",
      "model_name": "LayoutModel",
      "state": {}
     },
     "31a0cc262ac049adb4aac006db5fdd41": {
      "model_module": "@jupyter-widgets/controls",
      "model_module_version": "1.5.0",
      "model_name": "DescriptionStyleModel",
      "state": {
       "description_width": ""
      }
     },
     "31f80c79bd564e2c873c557962689b24": {
      "model_module": "@jupyter-widgets/controls",
      "model_module_version": "1.5.0",
      "model_name": "DescriptionStyleModel",
      "state": {
       "description_width": ""
      }
     },
     "32380b6ff69f49bc855134b623f9838f": {
      "model_module": "@jupyter-widgets/controls",
      "model_module_version": "1.5.0",
      "model_name": "HBoxModel",
      "state": {
       "children": [
        "IPY_MODEL_79c6f87ccb2b4b298954a41ac56e9fee",
        "IPY_MODEL_cb5555f409a74009806dc8c75884d621",
        "IPY_MODEL_ed572fd8f6864c59afa6d9322b808136",
        "IPY_MODEL_ef5b763a936442469b2c1252e1d75ef0",
        "IPY_MODEL_1d8c8adeddff4f7bb633c827c0c246f5"
       ],
       "layout": "IPY_MODEL_c716b1e32a4b4ecf9dd24058b0bc03e6"
      }
     },
     "354df9b128da4c058fb49f56e20ec99d": {
      "model_module": "@jupyter-widgets/controls",
      "model_module_version": "1.5.0",
      "model_name": "HTMLModel",
      "state": {
       "layout": "IPY_MODEL_d6f40d8ea0464fe6b27dbc5f6322cc17",
       "style": "IPY_MODEL_c0c2d130fc8c44fea4e0f3f6d3b8a5b1",
       "value": "<h5>Job ID</h5>"
      }
     },
     "3a59ef0394434c9eb6a502353ab86694": {
      "model_module": "@jupyter-widgets/base",
      "model_module_version": "1.2.0",
      "model_name": "LayoutModel",
      "state": {
       "width": "190px"
      }
     },
     "3ccf92977e2e4748a985d929274ed602": {
      "model_module": "@jupyter-widgets/base",
      "model_module_version": "1.2.0",
      "model_name": "LayoutModel",
      "state": {
       "margin": "0px 0px 0px 37px",
       "width": "600px"
      }
     },
     "3cfe918d918e4353851b0ee9c0451cc9": {
      "model_module": "@jupyter-widgets/controls",
      "model_module_version": "1.5.0",
      "model_name": "HBoxModel",
      "state": {
       "children": [
        "IPY_MODEL_354df9b128da4c058fb49f56e20ec99d",
        "IPY_MODEL_0734688039ff4325972180402d76aa88",
        "IPY_MODEL_b6fd081f869e4e499aaeada45358ac3d",
        "IPY_MODEL_70548468f0164430aa43e23055a41f20",
        "IPY_MODEL_ccb9ffe5c01f4f35b22efd7ea93e90aa"
       ],
       "layout": "IPY_MODEL_3ccf92977e2e4748a985d929274ed602"
      }
     },
     "413c23a6a1414681a007760ea40b70e1": {
      "model_module": "@jupyter-widgets/base",
      "model_module_version": "1.2.0",
      "model_name": "LayoutModel",
      "state": {
       "width": "95px"
      }
     },
     "4192eae0b7aa48828754b3d4ff264b2f": {
      "model_module": "@jupyter-widgets/controls",
      "model_module_version": "1.5.0",
      "model_name": "DescriptionStyleModel",
      "state": {
       "description_width": ""
      }
     },
     "45502bbf8a3e4ccb956f4cfcc20af7e0": {
      "model_module": "@jupyter-widgets/controls",
      "model_module_version": "1.5.0",
      "model_name": "DescriptionStyleModel",
      "state": {
       "description_width": ""
      }
     },
     "4854cd9d6f1346da9822d30c498c9798": {
      "model_module": "@jupyter-widgets/controls",
      "model_module_version": "1.5.0",
      "model_name": "ButtonStyleModel",
      "state": {}
     },
     "5b3bce4e2c374bf099ee21ea643d6881": {
      "model_module": "@jupyter-widgets/controls",
      "model_module_version": "1.5.0",
      "model_name": "DescriptionStyleModel",
      "state": {
       "description_width": ""
      }
     },
     "5b68942fd49840b292c97a8849c3bc48": {
      "model_module": "@jupyter-widgets/controls",
      "model_module_version": "1.5.0",
      "model_name": "ButtonModel",
      "state": {
       "button_style": "primary",
       "description": "Clear",
       "layout": "IPY_MODEL_76c16e3a30d24e388211228db20c18ef",
       "style": "IPY_MODEL_aa7f9868dbbc4d0b9bccb099c4dcd253"
      }
     },
     "5b927dcab0b643fcaa2d29bbb6562238": {
      "model_module": "@jupyter-widgets/base",
      "model_module_version": "1.2.0",
      "model_name": "LayoutModel",
      "state": {
       "margin": "0px 0px 10px 0px"
      }
     },
     "6150db8aff06483ea4a59dc154624781": {
      "model_module": "@jupyter-widgets/controls",
      "model_module_version": "1.5.0",
      "model_name": "GridBoxModel",
      "state": {
       "children": [
        "IPY_MODEL_824a9ec047f542959b36081c99e2f429"
       ],
       "layout": "IPY_MODEL_fb7e9afd4a3d4543aa9522780c371777"
      }
     },
     "6be25198fa8e4d2da954978bc1387e87": {
      "model_module": "@jupyter-widgets/base",
      "model_module_version": "1.2.0",
      "model_name": "LayoutModel",
      "state": {}
     },
     "6f169a4543f340e6b359abf62449e760": {
      "model_module": "@jupyter-widgets/base",
      "model_module_version": "1.2.0",
      "model_name": "LayoutModel",
      "state": {
       "width": "145px"
      }
     },
     "70548468f0164430aa43e23055a41f20": {
      "model_module": "@jupyter-widgets/controls",
      "model_module_version": "1.5.0",
      "model_name": "HTMLModel",
      "state": {
       "layout": "IPY_MODEL_10f49ddb3b6d47529c2502c2f72d434a",
       "style": "IPY_MODEL_31f80c79bd564e2c873c557962689b24",
       "value": "<h5>Queue</h5>"
      }
     },
     "71ebcde96e4948068b179095591f9389": {
      "model_module": "@jupyter-widgets/controls",
      "model_module_version": "1.5.0",
      "model_name": "DescriptionStyleModel",
      "state": {
       "description_width": ""
      }
     },
     "76c16e3a30d24e388211228db20c18ef": {
      "model_module": "@jupyter-widgets/base",
      "model_module_version": "1.2.0",
      "model_name": "LayoutModel",
      "state": {
       "grid_area": "right",
       "padding": "0px 0px 0px 0px",
       "width": "70px"
      }
     },
     "79c6f87ccb2b4b298954a41ac56e9fee": {
      "model_module": "@jupyter-widgets/controls",
      "model_module_version": "1.5.0",
      "model_name": "HTMLModel",
      "state": {
       "layout": "IPY_MODEL_3a59ef0394434c9eb6a502353ab86694",
       "style": "IPY_MODEL_5b3bce4e2c374bf099ee21ea643d6881",
       "value": "<h5>Job ID</h5>"
      }
     },
     "824a9ec047f542959b36081c99e2f429": {
      "model_module": "@jupyter-widgets/controls",
      "model_module_version": "1.5.0",
      "model_name": "ButtonModel",
      "state": {
       "button_style": "primary",
       "description": "Clear",
       "layout": "IPY_MODEL_ed1c391dfe9043ec8071581ff690c701",
       "style": "IPY_MODEL_4854cd9d6f1346da9822d30c498c9798"
      }
     },
     "971c70c2308e4db2a282a68fe999bf77": {
      "model_module": "@jupyter-widgets/base",
      "model_module_version": "1.2.0",
      "model_name": "LayoutModel",
      "state": {
       "width": "95px"
      }
     },
     "9e5b4d3244c445cda9c3efec77460ae8": {
      "model_module": "@jupyter-widgets/controls",
      "model_module_version": "1.5.0",
      "model_name": "DescriptionStyleModel",
      "state": {
       "description_width": ""
      }
     },
     "a539f9fbc18e4127834fa757d180c339": {
      "model_module": "@jupyter-widgets/base",
      "model_module_version": "1.2.0",
      "model_name": "LayoutModel",
      "state": {
       "grid_template_areas": "\n                                       \". . . . right \"\n                                        ",
       "grid_template_columns": "20% 20% 20% 20% 20%",
       "width": "100%"
      }
     },
     "aa7f9868dbbc4d0b9bccb099c4dcd253": {
      "model_module": "@jupyter-widgets/controls",
      "model_module_version": "1.5.0",
      "model_name": "ButtonStyleModel",
      "state": {}
     },
     "b0c8fc9097ac4dfd915a2f88f424b234": {
      "model_module": "@jupyter-widgets/controls",
      "model_module_version": "1.5.0",
      "model_name": "DescriptionStyleModel",
      "state": {
       "description_width": ""
      }
     },
     "b6fd081f869e4e499aaeada45358ac3d": {
      "model_module": "@jupyter-widgets/controls",
      "model_module_version": "1.5.0",
      "model_name": "HTMLModel",
      "state": {
       "layout": "IPY_MODEL_971c70c2308e4db2a282a68fe999bf77",
       "style": "IPY_MODEL_31a0cc262ac049adb4aac006db5fdd41",
       "value": "<h5>Status</h5>"
      }
     },
     "ba108e9a24414bcb89ceecd296eb6176": {
      "model_module": "@jupyter-widgets/controls",
      "model_module_version": "1.5.0",
      "model_name": "DescriptionStyleModel",
      "state": {
       "description_width": ""
      }
     },
     "c0c2d130fc8c44fea4e0f3f6d3b8a5b1": {
      "model_module": "@jupyter-widgets/controls",
      "model_module_version": "1.5.0",
      "model_name": "DescriptionStyleModel",
      "state": {
       "description_width": ""
      }
     },
     "c716b1e32a4b4ecf9dd24058b0bc03e6": {
      "model_module": "@jupyter-widgets/base",
      "model_module_version": "1.2.0",
      "model_name": "LayoutModel",
      "state": {
       "margin": "0px 0px 0px 37px",
       "width": "600px"
      }
     },
     "cb5555f409a74009806dc8c75884d621": {
      "model_module": "@jupyter-widgets/controls",
      "model_module_version": "1.5.0",
      "model_name": "HTMLModel",
      "state": {
       "layout": "IPY_MODEL_6f169a4543f340e6b359abf62449e760",
       "style": "IPY_MODEL_143273588d61452aab6c0952b64cd94f",
       "value": "<h5>Backend</h5>"
      }
     },
     "ccb9ffe5c01f4f35b22efd7ea93e90aa": {
      "model_module": "@jupyter-widgets/controls",
      "model_module_version": "1.5.0",
      "model_name": "HTMLModel",
      "state": {
       "layout": "IPY_MODEL_6be25198fa8e4d2da954978bc1387e87",
       "style": "IPY_MODEL_ba108e9a24414bcb89ceecd296eb6176",
       "value": "<h5>Message</h5>"
      }
     },
     "d6f40d8ea0464fe6b27dbc5f6322cc17": {
      "model_module": "@jupyter-widgets/base",
      "model_module_version": "1.2.0",
      "model_name": "LayoutModel",
      "state": {
       "width": "190px"
      }
     },
     "ddb12ec21b53472db7fdc50dce729676": {
      "model_module": "@jupyter-widgets/controls",
      "model_module_version": "1.5.0",
      "model_name": "GridBoxModel",
      "state": {
       "children": [
        "IPY_MODEL_5b68942fd49840b292c97a8849c3bc48"
       ],
       "layout": "IPY_MODEL_a539f9fbc18e4127834fa757d180c339"
      }
     },
     "def1c2b372804159a363e44da8135051": {
      "model_module": "@jupyter-widgets/base",
      "model_module_version": "1.2.0",
      "model_name": "LayoutModel",
      "state": {
       "width": "145px"
      }
     },
     "ed1c391dfe9043ec8071581ff690c701": {
      "model_module": "@jupyter-widgets/base",
      "model_module_version": "1.2.0",
      "model_name": "LayoutModel",
      "state": {
       "grid_area": "right",
       "padding": "0px 0px 0px 0px",
       "width": "70px"
      }
     },
     "ed572fd8f6864c59afa6d9322b808136": {
      "model_module": "@jupyter-widgets/controls",
      "model_module_version": "1.5.0",
      "model_name": "HTMLModel",
      "state": {
       "layout": "IPY_MODEL_413c23a6a1414681a007760ea40b70e1",
       "style": "IPY_MODEL_b0c8fc9097ac4dfd915a2f88f424b234",
       "value": "<h5>Status</h5>"
      }
     },
     "ef5b763a936442469b2c1252e1d75ef0": {
      "model_module": "@jupyter-widgets/controls",
      "model_module_version": "1.5.0",
      "model_name": "HTMLModel",
      "state": {
       "layout": "IPY_MODEL_fb22154006c544aea0c380b676989221",
       "style": "IPY_MODEL_9e5b4d3244c445cda9c3efec77460ae8",
       "value": "<h5>Queue</h5>"
      }
     },
     "fb22154006c544aea0c380b676989221": {
      "model_module": "@jupyter-widgets/base",
      "model_module_version": "1.2.0",
      "model_name": "LayoutModel",
      "state": {
       "width": "70px"
      }
     },
     "fb7e9afd4a3d4543aa9522780c371777": {
      "model_module": "@jupyter-widgets/base",
      "model_module_version": "1.2.0",
      "model_name": "LayoutModel",
      "state": {
       "grid_template_areas": "\n                                       \". . . . right \"\n                                        ",
       "grid_template_columns": "20% 20% 20% 20% 20%",
       "width": "100%"
      }
     }
    },
    "version_major": 2,
    "version_minor": 0
   }
  }
 },
 "nbformat": 4,
 "nbformat_minor": 5
}
